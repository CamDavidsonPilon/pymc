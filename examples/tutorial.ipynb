{
 "metadata": {
  "name": "tutorial"
 },
 "nbformat": 3,
 "nbformat_minor": 0,
 "worksheets": [
  {
   "cells": [
    {
     "cell_type": "code",
     "collapsed": false,
     "input": [
      "from pymc import *\n",
      "import numpy as np \n",
      "from numpy.random import normal, beta\n",
      "import theano "
     ],
     "language": "python",
     "metadata": {},
     "outputs": [],
     "prompt_number": 1
    },
    {
     "cell_type": "markdown",
     "metadata": {},
     "source": [
      "Model\n",
      "-----\n",
      "We consider the following generative model"
     ]
    },
    {
     "cell_type": "code",
     "collapsed": false,
     "input": [
      "xtrue = normal(scale = 2., size = 1)\n",
      "ytrue = normal(loc = np.exp(xtrue), scale = 1, size = (2,1))\n",
      "zdata = normal(loc = xtrue + ytrue, scale = .75, size = (2, 20))"
     ],
     "language": "python",
     "metadata": {},
     "outputs": [],
     "prompt_number": 2
    },
    {
     "cell_type": "markdown",
     "metadata": {},
     "source": [
      "we observe `zdata` but not `xtrue` or `ytrue`, so we want to come up with posterior distributions for x and y."
     ]
    },
    {
     "cell_type": "markdown",
     "metadata": {},
     "source": [
      "Build Model\n",
      "-----------\n",
      "The `Model` encapsulates a statistical model. It has very simple internals: just a list of unobserved variables (`Model.vars`) and a list of factors which go into computing the posterior density (`Model.factors`) (see model.py for more).\n",
      "\n",
      "The `Var` and `Data` method add unobserved and observed random variables to our model respectively."
     ]
    },
    {
     "cell_type": "code",
     "collapsed": false,
     "input": [
      "model = Model()\n",
      "Var = model.Var\n",
      "Data = model.Data "
     ],
     "language": "python",
     "metadata": {},
     "outputs": [],
     "prompt_number": 3
    },
    {
     "cell_type": "markdown",
     "metadata": {},
     "source": [
      "The `Var` method adds an unobserved random variable to the model. `Var` needs the name and prior distribution for the random variable, and optionally the shape of the parameter. \n",
      "It returns a Theano variable which represents (the value of) the random variable we have added to the model.\n",
      "\n",
      "The `Var` method is also very simple (see model.py), it creates a Theano variable, adds it to the model\n",
      "list and adds the likelihood factor to the model's factor list.\n",
      "\n",
      "The distribution classes (see distributions/continuous.py), such as `Normal(mu, tau)` below, take some parameters and have a `logp(value)` method for calculating the likelihood."
     ]
    },
    {
     "cell_type": "code",
     "collapsed": false,
     "input": [
      "x = Var('x', Normal(mu = 0., tau = 1))\n",
      "y = Var('y', Normal(mu = exp(x), tau = 2.**-2), shape = (2,1))"
     ],
     "language": "python",
     "metadata": {},
     "outputs": [],
     "prompt_number": 4
    },
    {
     "cell_type": "markdown",
     "metadata": {},
     "source": [
      "The `Data` method adds an observed random variable to the model. It functions similar to `Var`. `Data` takes the observed data, and the distribution for that data. "
     ]
    },
    {
     "cell_type": "code",
     "collapsed": false,
     "input": [
      "Data(zdata, Normal(mu = x + y, tau = .75**-2))\n"
     ],
     "language": "python",
     "metadata": {},
     "outputs": [],
     "prompt_number": 5
    },
    {
     "cell_type": "markdown",
     "metadata": {},
     "source": [
      "Fit Model\n",
      "---------\n",
      "We need a starting point for our sampling. The `find_MAP` function finds the maximum a posteriori point (MAP), which is often a good choice for starting point. `find_MAP` uses an optimization algorithm to find the local maximum of the log posterior."
     ]
    },
    {
     "cell_type": "code",
     "collapsed": false,
     "input": [
      "start = find_MAP(model)"
     ],
     "language": "python",
     "metadata": {},
     "outputs": [],
     "prompt_number": 6
    },
    {
     "cell_type": "markdown",
     "metadata": {},
     "source": [
      "Points in parameter space are represented by dictionaries with parameter names as they keys and the value of the parameters as the values."
     ]
    },
    {
     "cell_type": "code",
     "collapsed": false,
     "input": [
      "start"
     ],
     "language": "python",
     "metadata": {},
     "outputs": [
      {
       "output_type": "pyout",
       "prompt_number": 7,
       "text": [
        "{'x': array([ 0.89028277]), 'y': array([[ 2.41054005],\n",
        "       [ 3.49756802]])}"
       ]
      }
     ],
     "prompt_number": 7
    },
    {
     "cell_type": "markdown",
     "metadata": {},
     "source": [
      "We will use Hamiltonian Monte Carlo (HMC) to sample from the posterior as implemented by the `HamiltonianMC` step method class. HMC requires an (inverse) covariance matrix to scale its proposal points. So first we pick one. It is helpful if it approximates the true (inverse) covariance matrix. For distributions which are somewhat normal-like, the hessian matrix (matrix of 2nd derivatives of the log posterior) close to the MAP will approximate the inverse covariance matrix of the posterior.\n",
      "\n",
      "The `approx_hess(model, point)` function works similarly to the find_MAP function and returns the hessian at a given point."
     ]
    },
    {
     "cell_type": "code",
     "collapsed": false,
     "input": [
      "h = approx_hess(model, start)"
     ],
     "language": "python",
     "metadata": {},
     "outputs": [],
     "prompt_number": 8
    },
    {
     "cell_type": "markdown",
     "metadata": {},
     "source": [
      "Now we build our step method. `HamiltonianMC` takes a model object, a set of variables it should update and a scaling matrix."
     ]
    },
    {
     "cell_type": "code",
     "collapsed": false,
     "input": [
      "step = HamiltonianMC(model, model.vars, h)"
     ],
     "language": "python",
     "metadata": {},
     "outputs": [],
     "prompt_number": 9
    },
    {
     "cell_type": "markdown",
     "metadata": {},
     "source": [
      "The `sample` function takes a number of steps to sample, a step method, a starting point. It returns a trace, the final state of \n",
      "the step method and the seconds that sampling took."
     ]
    },
    {
     "cell_type": "code",
     "collapsed": false,
     "input": [
      "trace, state, t = sample(3e3, step, start, trace = DFTrace())"
     ],
     "language": "python",
     "metadata": {},
     "outputs": [],
     "prompt_number": 10
    },
    {
     "cell_type": "markdown",
     "metadata": {},
     "source": [
      "To use more than one sampler, use a CompoundStep which takes a list of step methods. \n",
      "\n",
      "The trace object can be indexed by the variables returning an array with the first index being the sample index\n",
      "and the other indexes the shape of the parameter. Thus the shape of trace[x].shape == (ndraw, 2,1).\n",
      "\n",
      "Pymc3 provides `traceplot` a simple plot for a trace."
     ]
    },
    {
     "cell_type": "code",
     "collapsed": false,
     "input": [
      "trace"
     ],
     "language": "python",
     "metadata": {},
     "outputs": [
      {
       "output_type": "pyout",
       "prompt_number": 12,
       "text": [
        "<class 'pymc.trace.DFTrace'>\n",
        "Int64Index: 3000 entries, 0 to 2999\n",
        "Data columns:\n",
        "x    3000  non-null values\n",
        "y    3000  non-null values\n",
        "dtypes: object(2)"
       ]
      }
     ],
     "prompt_number": 12
    },
    {
     "cell_type": "code",
     "collapsed": false,
     "input": [
      "trace[:2]"
     ],
     "language": "python",
     "metadata": {},
     "outputs": [
      {
       "html": [
        "<div style=\"max-height:1000px;max-width:1500px;overflow:auto;\">\n",
        "<table border=\"1\" class=\"dataframe\">\n",
        "  <thead>\n",
        "    <tr style=\"text-align: right;\">\n",
        "      <th></th>\n",
        "      <th>x</th>\n",
        "      <th>y</th>\n",
        "    </tr>\n",
        "  </thead>\n",
        "  <tbody>\n",
        "    <tr>\n",
        "      <th>0</th>\n",
        "      <td> [0.849643311965]</td>\n",
        "      <td>  [[2.3055304371], [3.22514191579]]</td>\n",
        "    </tr>\n",
        "    <tr>\n",
        "      <th>1</th>\n",
        "      <td> [0.493071730647]</td>\n",
        "      <td> [[2.79346284131], [3.95274114172]]</td>\n",
        "    </tr>\n",
        "  </tbody>\n",
        "</table>\n",
        "</div>"
       ],
       "output_type": "pyout",
       "prompt_number": 13,
       "text": [
        "                  x                                   y\n",
        "0  [0.849643311965]   [[2.3055304371], [3.22514191579]]\n",
        "1  [0.493071730647]  [[2.79346284131], [3.95274114172]]"
       ]
      }
     ],
     "prompt_number": 13
    },
    {
     "cell_type": "code",
     "collapsed": false,
     "input": [
      "traceplot(trace)"
     ],
     "language": "python",
     "metadata": {},
     "outputs": [
      {
       "ename": "AttributeError",
       "evalue": "'DFTrace' object has no attribute 'samples'",
       "output_type": "pyerr",
       "traceback": [
        "\u001b[1;31m---------------------------------------------------------------------------\u001b[0m\n\u001b[1;31mAttributeError\u001b[0m                            Traceback (most recent call last)",
        "\u001b[1;32m<ipython-input-11-0a19dd14965b>\u001b[0m in \u001b[0;36m<module>\u001b[1;34m()\u001b[0m\n\u001b[1;32m----> 1\u001b[1;33m \u001b[0mtraceplot\u001b[0m\u001b[1;33m(\u001b[0m\u001b[0mtrace\u001b[0m\u001b[1;33m)\u001b[0m\u001b[1;33m\u001b[0m\u001b[0m\n\u001b[0m",
        "\u001b[1;32m/home/john/Documents/workspace/pymc3/pymc/plots.pyc\u001b[0m in \u001b[0;36mtraceplot\u001b[1;34m(trace, vars)\u001b[0m\n\u001b[0;32m      7\u001b[0m \u001b[1;32mdef\u001b[0m \u001b[0mtraceplot\u001b[0m\u001b[1;33m(\u001b[0m\u001b[0mtrace\u001b[0m\u001b[1;33m,\u001b[0m \u001b[0mvars\u001b[0m\u001b[1;33m=\u001b[0m\u001b[0mNone\u001b[0m\u001b[1;33m)\u001b[0m\u001b[1;33m:\u001b[0m\u001b[1;33m\u001b[0m\u001b[0m\n\u001b[0;32m      8\u001b[0m     \u001b[1;32mif\u001b[0m \u001b[0mvars\u001b[0m \u001b[1;32mis\u001b[0m \u001b[0mNone\u001b[0m\u001b[1;33m:\u001b[0m\u001b[1;33m\u001b[0m\u001b[0m\n\u001b[1;32m----> 9\u001b[1;33m         \u001b[0mvars\u001b[0m \u001b[1;33m=\u001b[0m \u001b[0mtrace\u001b[0m\u001b[1;33m.\u001b[0m\u001b[0msamples\u001b[0m\u001b[1;33m.\u001b[0m\u001b[0mkeys\u001b[0m\u001b[1;33m(\u001b[0m\u001b[1;33m)\u001b[0m\u001b[1;33m\u001b[0m\u001b[0m\n\u001b[0m\u001b[0;32m     10\u001b[0m \u001b[1;33m\u001b[0m\u001b[0m\n\u001b[0;32m     11\u001b[0m     \u001b[0mn\u001b[0m \u001b[1;33m=\u001b[0m \u001b[0mlen\u001b[0m\u001b[1;33m(\u001b[0m\u001b[0mvars\u001b[0m\u001b[1;33m)\u001b[0m\u001b[1;33m\u001b[0m\u001b[0m\n",
        "\u001b[1;32m/usr/local/lib/python2.7/dist-packages/pandas-0.11.0.dev_3790f16-py2.7-linux-i686.egg/pandas/core/frame.pyc\u001b[0m in \u001b[0;36m__getattr__\u001b[1;34m(self, name)\u001b[0m\n\u001b[0;32m   2077\u001b[0m             \u001b[1;32mreturn\u001b[0m \u001b[0mself\u001b[0m\u001b[1;33m[\u001b[0m\u001b[0mname\u001b[0m\u001b[1;33m]\u001b[0m\u001b[1;33m\u001b[0m\u001b[0m\n\u001b[0;32m   2078\u001b[0m         raise AttributeError(\"'%s' object has no attribute '%s'\" %\n\u001b[1;32m-> 2079\u001b[1;33m                              (type(self).__name__, name))\n\u001b[0m\u001b[0;32m   2080\u001b[0m \u001b[1;33m\u001b[0m\u001b[0m\n\u001b[0;32m   2081\u001b[0m     \u001b[1;32mdef\u001b[0m \u001b[0m__setattr__\u001b[0m\u001b[1;33m(\u001b[0m\u001b[0mself\u001b[0m\u001b[1;33m,\u001b[0m \u001b[0mname\u001b[0m\u001b[1;33m,\u001b[0m \u001b[0mvalue\u001b[0m\u001b[1;33m)\u001b[0m\u001b[1;33m:\u001b[0m\u001b[1;33m\u001b[0m\u001b[0m\n",
        "\u001b[1;31mAttributeError\u001b[0m: 'DFTrace' object has no attribute 'samples'"
       ]
      }
     ],
     "prompt_number": 11
    }
   ],
   "metadata": {}
  }
 ]
}